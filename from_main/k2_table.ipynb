{
 "cells": [
  {
   "cell_type": "markdown",
   "id": "d5f2a6ce",
   "metadata": {},
   "source": [
    "# import lib"
   ]
  },
  {
   "cell_type": "code",
   "execution_count": 109,
   "id": "48db4a73",
   "metadata": {},
   "outputs": [],
   "source": [
    "import numpy as np\n",
    "import matplotlib.pyplot as plt\n",
    "import pandas as pd\n",
    "import seaborn as sns\n",
    "from sklearn.model_selection import train_test_split\n",
    "from sklearn.ensemble import RandomForestClassifier\n",
    "from sklearn.metrics import accuracy_score, classification_report, confusion_matrix\n"
   ]
  },
  {
   "cell_type": "markdown",
   "id": "a2f288e3",
   "metadata": {},
   "source": [
    "# import k2 data"
   ]
  },
  {
   "cell_type": "code",
   "execution_count": 110,
   "id": "7501b8d4",
   "metadata": {},
   "outputs": [
    {
     "data": {
      "text/html": [
       "<div>\n",
       "<style scoped>\n",
       "    .dataframe tbody tr th:only-of-type {\n",
       "        vertical-align: middle;\n",
       "    }\n",
       "\n",
       "    .dataframe tbody tr th {\n",
       "        vertical-align: top;\n",
       "    }\n",
       "\n",
       "    .dataframe thead th {\n",
       "        text-align: right;\n",
       "    }\n",
       "</style>\n",
       "<table border=\"1\" class=\"dataframe\">\n",
       "  <thead>\n",
       "    <tr style=\"text-align: right;\">\n",
       "      <th></th>\n",
       "      <th>rowid</th>\n",
       "      <th>pl_name</th>\n",
       "      <th>hostname</th>\n",
       "      <th>pl_letter</th>\n",
       "      <th>k2_name</th>\n",
       "      <th>epic_hostname</th>\n",
       "      <th>epic_candname</th>\n",
       "      <th>hd_name</th>\n",
       "      <th>hip_name</th>\n",
       "      <th>tic_id</th>\n",
       "      <th>...</th>\n",
       "      <th>releasedate</th>\n",
       "      <th>pl_nnotes</th>\n",
       "      <th>k2_campaigns</th>\n",
       "      <th>k2_campaigns_num</th>\n",
       "      <th>st_nphot</th>\n",
       "      <th>st_nrvc</th>\n",
       "      <th>st_nspec</th>\n",
       "      <th>pl_nespec</th>\n",
       "      <th>pl_ntranspec</th>\n",
       "      <th>pl_ndispec</th>\n",
       "    </tr>\n",
       "  </thead>\n",
       "  <tbody>\n",
       "    <tr>\n",
       "      <th>0</th>\n",
       "      <td>1</td>\n",
       "      <td>BD+20 594 b</td>\n",
       "      <td>BD+20 594</td>\n",
       "      <td>b</td>\n",
       "      <td>K2-56 b</td>\n",
       "      <td>EPIC 210848071</td>\n",
       "      <td>EPIC 210848071.01</td>\n",
       "      <td>NaN</td>\n",
       "      <td>NaN</td>\n",
       "      <td>TIC 26123781</td>\n",
       "      <td>...</td>\n",
       "      <td>2018-02-15</td>\n",
       "      <td>1</td>\n",
       "      <td>4</td>\n",
       "      <td>1.0</td>\n",
       "      <td>0</td>\n",
       "      <td>0</td>\n",
       "      <td>0</td>\n",
       "      <td>0</td>\n",
       "      <td>0</td>\n",
       "      <td>0</td>\n",
       "    </tr>\n",
       "    <tr>\n",
       "      <th>1</th>\n",
       "      <td>2</td>\n",
       "      <td>BD+20 594 b</td>\n",
       "      <td>BD+20 594</td>\n",
       "      <td>b</td>\n",
       "      <td>K2-56 b</td>\n",
       "      <td>EPIC 210848071</td>\n",
       "      <td>EPIC 210848071.01</td>\n",
       "      <td>NaN</td>\n",
       "      <td>NaN</td>\n",
       "      <td>TIC 26123781</td>\n",
       "      <td>...</td>\n",
       "      <td>2016-07-28</td>\n",
       "      <td>1</td>\n",
       "      <td>4</td>\n",
       "      <td>1.0</td>\n",
       "      <td>0</td>\n",
       "      <td>0</td>\n",
       "      <td>0</td>\n",
       "      <td>0</td>\n",
       "      <td>0</td>\n",
       "      <td>0</td>\n",
       "    </tr>\n",
       "    <tr>\n",
       "      <th>2</th>\n",
       "      <td>3</td>\n",
       "      <td>BD+20 594 b</td>\n",
       "      <td>BD+20 594</td>\n",
       "      <td>b</td>\n",
       "      <td>K2-56 b</td>\n",
       "      <td>EPIC 210848071</td>\n",
       "      <td>EPIC 210848071.01</td>\n",
       "      <td>NaN</td>\n",
       "      <td>NaN</td>\n",
       "      <td>TIC 26123781</td>\n",
       "      <td>...</td>\n",
       "      <td>2018-04-26</td>\n",
       "      <td>1</td>\n",
       "      <td>4</td>\n",
       "      <td>1.0</td>\n",
       "      <td>0</td>\n",
       "      <td>0</td>\n",
       "      <td>0</td>\n",
       "      <td>0</td>\n",
       "      <td>0</td>\n",
       "      <td>0</td>\n",
       "    </tr>\n",
       "    <tr>\n",
       "      <th>3</th>\n",
       "      <td>4</td>\n",
       "      <td>EPIC 201111557.01</td>\n",
       "      <td>EPIC 201111557</td>\n",
       "      <td>NaN</td>\n",
       "      <td>NaN</td>\n",
       "      <td>EPIC 201111557</td>\n",
       "      <td>EPIC 201111557.01</td>\n",
       "      <td>NaN</td>\n",
       "      <td>NaN</td>\n",
       "      <td>TIC 176942156</td>\n",
       "      <td>...</td>\n",
       "      <td>2018-08-02</td>\n",
       "      <td>0</td>\n",
       "      <td>10</td>\n",
       "      <td>1.0</td>\n",
       "      <td>0</td>\n",
       "      <td>0</td>\n",
       "      <td>0</td>\n",
       "      <td>0</td>\n",
       "      <td>0</td>\n",
       "      <td>0</td>\n",
       "    </tr>\n",
       "    <tr>\n",
       "      <th>4</th>\n",
       "      <td>5</td>\n",
       "      <td>EPIC 201111557.01</td>\n",
       "      <td>EPIC 201111557</td>\n",
       "      <td>NaN</td>\n",
       "      <td>NaN</td>\n",
       "      <td>EPIC 201111557</td>\n",
       "      <td>EPIC 201111557.01</td>\n",
       "      <td>NaN</td>\n",
       "      <td>NaN</td>\n",
       "      <td>TIC 176942156</td>\n",
       "      <td>...</td>\n",
       "      <td>2018-02-15</td>\n",
       "      <td>0</td>\n",
       "      <td>10</td>\n",
       "      <td>1.0</td>\n",
       "      <td>0</td>\n",
       "      <td>0</td>\n",
       "      <td>0</td>\n",
       "      <td>0</td>\n",
       "      <td>0</td>\n",
       "      <td>0</td>\n",
       "    </tr>\n",
       "  </tbody>\n",
       "</table>\n",
       "<p>5 rows × 295 columns</p>\n",
       "</div>"
      ],
      "text/plain": [
       "   rowid            pl_name        hostname pl_letter  k2_name  \\\n",
       "0      1        BD+20 594 b       BD+20 594         b  K2-56 b   \n",
       "1      2        BD+20 594 b       BD+20 594         b  K2-56 b   \n",
       "2      3        BD+20 594 b       BD+20 594         b  K2-56 b   \n",
       "3      4  EPIC 201111557.01  EPIC 201111557       NaN      NaN   \n",
       "4      5  EPIC 201111557.01  EPIC 201111557       NaN      NaN   \n",
       "\n",
       "    epic_hostname      epic_candname hd_name hip_name         tic_id  ...  \\\n",
       "0  EPIC 210848071  EPIC 210848071.01     NaN      NaN   TIC 26123781  ...   \n",
       "1  EPIC 210848071  EPIC 210848071.01     NaN      NaN   TIC 26123781  ...   \n",
       "2  EPIC 210848071  EPIC 210848071.01     NaN      NaN   TIC 26123781  ...   \n",
       "3  EPIC 201111557  EPIC 201111557.01     NaN      NaN  TIC 176942156  ...   \n",
       "4  EPIC 201111557  EPIC 201111557.01     NaN      NaN  TIC 176942156  ...   \n",
       "\n",
       "  releasedate  pl_nnotes k2_campaigns k2_campaigns_num  st_nphot  st_nrvc  \\\n",
       "0  2018-02-15          1            4              1.0         0        0   \n",
       "1  2016-07-28          1            4              1.0         0        0   \n",
       "2  2018-04-26          1            4              1.0         0        0   \n",
       "3  2018-08-02          0           10              1.0         0        0   \n",
       "4  2018-02-15          0           10              1.0         0        0   \n",
       "\n",
       "   st_nspec  pl_nespec pl_ntranspec  pl_ndispec  \n",
       "0         0          0            0           0  \n",
       "1         0          0            0           0  \n",
       "2         0          0            0           0  \n",
       "3         0          0            0           0  \n",
       "4         0          0            0           0  \n",
       "\n",
       "[5 rows x 295 columns]"
      ]
     },
     "execution_count": 110,
     "metadata": {},
     "output_type": "execute_result"
    }
   ],
   "source": [
    "df = pd.read_csv('tabular_data/k2pandc_2025.10.02_20.47.13.csv')\n",
    "df.head()"
   ]
  },
  {
   "cell_type": "markdown",
   "id": "5acca1db",
   "metadata": {},
   "source": [
    "# Eksplorasi dan Pembersihan Data"
   ]
  },
  {
   "cell_type": "code",
   "execution_count": 111,
   "id": "2d7d9b67",
   "metadata": {},
   "outputs": [
    {
     "name": "stdout",
     "output_type": "stream",
     "text": [
      "Nilai unik di kolom 'disposition':\n",
      "disposition\n",
      "CONFIRMED         2315\n",
      "CANDIDATE         1374\n",
      "FALSE POSITIVE     293\n",
      "REFUTED             22\n",
      "Name: count, dtype: int64\n"
     ]
    },
    {
     "data": {
      "image/png": "[encoded data removed]",
      "text/plain": [
       "<Figure size 640x480 with 1 Axes>"
      ]
     },
     "metadata": {},
     "output_type": "display_data"
    }
   ],
   "source": [
    "# Cek distribusi variabel target\n",
    "print(\"Nilai unik di kolom 'disposition':\")\n",
    "print(df['disposition'].value_counts())\n",
    "\n",
    "# Visualisasikan distribusi\n",
    "sns.countplot(x='disposition', data=df)\n",
    "plt.title('Distribusi Status Kandidat')\n",
    "plt.show()"
   ]
  },
  {
   "cell_type": "code",
   "execution_count": 112,
   "id": "c95c5a02",
   "metadata": {},
   "outputs": [
    {
     "name": "stdout",
     "output_type": "stream",
     "text": [
      "Jumlah baris sebelum difilter: 4004\n"
     ]
    }
   ],
   "source": [
    "# Menangani Data Duplikat berdasarkan 'default_flag'\n",
    "print(f\"Jumlah baris sebelum difilter: {len(df)}\")"
   ]
  },
  {
   "cell_type": "markdown",
   "id": "987b67f1",
   "metadata": {},
   "source": [
    "## Flag 1 "
   ]
  },
  {
   "cell_type": "code",
   "execution_count": 113,
   "id": "6165fc13",
   "metadata": {},
   "outputs": [
    {
     "name": "stdout",
     "output_type": "stream",
     "text": [
      "Jumlah baris setelah difilter dengan default_flag=1: 1806\n",
      "\n",
      "Distribusi target setelah filter:\n",
      "disposition\n",
      "CANDIDATE         976\n",
      "CONFIRMED         580\n",
      "FALSE POSITIVE    242\n",
      "REFUTED             8\n",
      "Name: count, dtype: int64\n"
     ]
    },
    {
     "data": {
      "image/png": "[encoded data removed]",
      "text/plain": [
       "<Figure size 640x480 with 1 Axes>"
      ]
     },
     "metadata": {},
     "output_type": "display_data"
    }
   ],
   "source": [
    "# Filter DataFrame untuk hanya menggunakan baris dengan default_flag = 1\n",
    "# .copy() digunakan untuk menghindari peringatan 'SettingWithCopyWarning' dari pandas\n",
    "df_filtered = df[df['default_flag'] == 1].copy()\n",
    "\n",
    "print(f\"Jumlah baris setelah difilter dengan default_flag=1: {len(df_filtered)}\")\n",
    "\n",
    "# Cek ulang distribusi target setelah difilter\n",
    "print(\"\\nDistribusi target setelah filter:\")\n",
    "print(df_filtered['disposition'].value_counts())\n",
    "sns.countplot(x='disposition', data=df_filtered)\n",
    "plt.title('Distribusi Status Kandidat (Setelah Filter Default)')\n",
    "plt.show()"
   ]
  },
  {
   "cell_type": "markdown",
   "id": "f7ddda2a",
   "metadata": {},
   "source": [
    "## Pilih Kolom Yang "
   ]
  },
  {
   "cell_type": "code",
   "execution_count": null,
   "id": "6d9f01ed",
   "metadata": {},
   "outputs": [
    {
     "name": "stdout",
     "output_type": "stream",
     "text": [
      "Bentuk data sebelum membuang kolom: (1806, 295)\n",
      "Bentuk data setelah membuang kolom ID/teks: (1806, 272)\n"
     ]
    },
    {
     "data": {
      "text/html": [
       "<div>\n",
       "<style scoped>\n",
       "    .dataframe tbody tr th:only-of-type {\n",
       "        vertical-align: middle;\n",
       "    }\n",
       "\n",
       "    .dataframe tbody tr th {\n",
       "        vertical-align: top;\n",
       "    }\n",
       "\n",
       "    .dataframe thead th {\n",
       "        text-align: right;\n",
       "    }\n",
       "</style>\n",
       "<table border=\"1\" class=\"dataframe\">\n",
       "  <thead>\n",
       "    <tr style=\"text-align: right;\">\n",
       "      <th></th>\n",
       "      <th>disposition</th>\n",
       "      <th>sy_snum</th>\n",
       "      <th>sy_pnum</th>\n",
       "      <th>sy_mnum</th>\n",
       "      <th>cb_flag</th>\n",
       "      <th>disc_year</th>\n",
       "      <th>disc_instrument</th>\n",
       "      <th>rv_flag</th>\n",
       "      <th>pul_flag</th>\n",
       "      <th>ptv_flag</th>\n",
       "      <th>...</th>\n",
       "      <th>releasedate</th>\n",
       "      <th>pl_nnotes</th>\n",
       "      <th>k2_campaigns</th>\n",
       "      <th>k2_campaigns_num</th>\n",
       "      <th>st_nphot</th>\n",
       "      <th>st_nrvc</th>\n",
       "      <th>st_nspec</th>\n",
       "      <th>pl_nespec</th>\n",
       "      <th>pl_ntranspec</th>\n",
       "      <th>pl_ndispec</th>\n",
       "    </tr>\n",
       "  </thead>\n",
       "  <tbody>\n",
       "    <tr>\n",
       "      <th>2</th>\n",
       "      <td>CONFIRMED</td>\n",
       "      <td>1</td>\n",
       "      <td>1</td>\n",
       "      <td>0</td>\n",
       "      <td>0</td>\n",
       "      <td>2016</td>\n",
       "      <td>Kepler CCD Array</td>\n",
       "      <td>1</td>\n",
       "      <td>0</td>\n",
       "      <td>0</td>\n",
       "      <td>...</td>\n",
       "      <td>2018-04-26</td>\n",
       "      <td>1</td>\n",
       "      <td>4</td>\n",
       "      <td>1.0</td>\n",
       "      <td>0</td>\n",
       "      <td>0</td>\n",
       "      <td>0</td>\n",
       "      <td>0</td>\n",
       "      <td>0</td>\n",
       "      <td>0</td>\n",
       "    </tr>\n",
       "    <tr>\n",
       "      <th>3</th>\n",
       "      <td>CANDIDATE</td>\n",
       "      <td>1</td>\n",
       "      <td>0</td>\n",
       "      <td>0</td>\n",
       "      <td>0</td>\n",
       "      <td>2018</td>\n",
       "      <td>Kepler CCD Array</td>\n",
       "      <td>0</td>\n",
       "      <td>0</td>\n",
       "      <td>0</td>\n",
       "      <td>...</td>\n",
       "      <td>2018-08-02</td>\n",
       "      <td>0</td>\n",
       "      <td>10</td>\n",
       "      <td>1.0</td>\n",
       "      <td>0</td>\n",
       "      <td>0</td>\n",
       "      <td>0</td>\n",
       "      <td>0</td>\n",
       "      <td>0</td>\n",
       "      <td>0</td>\n",
       "    </tr>\n",
       "    <tr>\n",
       "      <th>5</th>\n",
       "      <td>CANDIDATE</td>\n",
       "      <td>1</td>\n",
       "      <td>0</td>\n",
       "      <td>0</td>\n",
       "      <td>0</td>\n",
       "      <td>2016</td>\n",
       "      <td>Kepler CCD Array</td>\n",
       "      <td>0</td>\n",
       "      <td>0</td>\n",
       "      <td>0</td>\n",
       "      <td>...</td>\n",
       "      <td>2015-12-05</td>\n",
       "      <td>0</td>\n",
       "      <td>1</td>\n",
       "      <td>1.0</td>\n",
       "      <td>0</td>\n",
       "      <td>0</td>\n",
       "      <td>0</td>\n",
       "      <td>0</td>\n",
       "      <td>0</td>\n",
       "      <td>0</td>\n",
       "    </tr>\n",
       "    <tr>\n",
       "      <th>7</th>\n",
       "      <td>CANDIDATE</td>\n",
       "      <td>1</td>\n",
       "      <td>0</td>\n",
       "      <td>0</td>\n",
       "      <td>0</td>\n",
       "      <td>2018</td>\n",
       "      <td>Kepler CCD Array</td>\n",
       "      <td>0</td>\n",
       "      <td>0</td>\n",
       "      <td>0</td>\n",
       "      <td>...</td>\n",
       "      <td>2018-08-02</td>\n",
       "      <td>0</td>\n",
       "      <td>10</td>\n",
       "      <td>1.0</td>\n",
       "      <td>0</td>\n",
       "      <td>0</td>\n",
       "      <td>0</td>\n",
       "      <td>0</td>\n",
       "      <td>0</td>\n",
       "      <td>0</td>\n",
       "    </tr>\n",
       "    <tr>\n",
       "      <th>8</th>\n",
       "      <td>CANDIDATE</td>\n",
       "      <td>1</td>\n",
       "      <td>0</td>\n",
       "      <td>0</td>\n",
       "      <td>0</td>\n",
       "      <td>2019</td>\n",
       "      <td>Kepler CCD Array</td>\n",
       "      <td>0</td>\n",
       "      <td>0</td>\n",
       "      <td>0</td>\n",
       "      <td>...</td>\n",
       "      <td>2019-09-05</td>\n",
       "      <td>0</td>\n",
       "      <td>1</td>\n",
       "      <td>1.0</td>\n",
       "      <td>0</td>\n",
       "      <td>0</td>\n",
       "      <td>0</td>\n",
       "      <td>0</td>\n",
       "      <td>0</td>\n",
       "      <td>0</td>\n",
       "    </tr>\n",
       "  </tbody>\n",
       "</table>\n",
       "<p>5 rows × 272 columns</p>\n",
       "</div>"
      ],
      "text/plain": [
       "  disposition  sy_snum  sy_pnum  sy_mnum  cb_flag  disc_year  \\\n",
       "2   CONFIRMED        1        1        0        0       2016   \n",
       "3   CANDIDATE        1        0        0        0       2018   \n",
       "5   CANDIDATE        1        0        0        0       2016   \n",
       "7   CANDIDATE        1        0        0        0       2018   \n",
       "8   CANDIDATE        1        0        0        0       2019   \n",
       "\n",
       "    disc_instrument  rv_flag  pul_flag  ptv_flag  ...  releasedate  pl_nnotes  \\\n",
       "2  Kepler CCD Array        1         0         0  ...   2018-04-26          1   \n",
       "3  Kepler CCD Array        0         0         0  ...   2018-08-02          0   \n",
       "5  Kepler CCD Array        0         0         0  ...   2015-12-05          0   \n",
       "7  Kepler CCD Array        0         0         0  ...   2018-08-02          0   \n",
       "8  Kepler CCD Array        0         0         0  ...   2019-09-05          0   \n",
       "\n",
       "   k2_campaigns  k2_campaigns_num  st_nphot  st_nrvc  st_nspec  pl_nespec  \\\n",
       "2             4               1.0         0        0         0          0   \n",
       "3            10               1.0         0        0         0          0   \n",
       "5             1               1.0         0        0         0          0   \n",
       "7            10               1.0         0        0         0          0   \n",
       "8             1               1.0         0        0         0          0   \n",
       "\n",
       "  pl_ntranspec  pl_ndispec  \n",
       "2            0           0  \n",
       "3            0           0  \n",
       "5            0           0  \n",
       "7            0           0  \n",
       "8            0           0  \n",
       "\n",
       "[5 rows x 272 columns]"
      ]
     },
     "execution_count": 114,
     "metadata": {},
     "output_type": "execute_result"
    }
   ],
   "source": [
    "# Buang kolom-kolom yang tidak relevan untuk pemodelan\n",
    "# Ini termasuk ID, nama, referensi, dan flag yang tidak informatif\n",
    "cols_to_drop = [\n",
    "    'pl_name', 'hostname', 'pl_letter', 'k2_name', 'epic_hostname', \n",
    "    'epic_candname', 'hd_name', 'hip_name', 'tic_id', 'gaia_id', \n",
    "    'default_flag', 'disp_refname', 'discoverymethod', \n",
    "    'disc_refname', 'disc_pubdate', 'disc_locale', 'disc_facility', \n",
    "    'disc_telescope','rowid', 'soltype', 'st_refname','rowupdate', 'pl_pubdate','releasedate', 'pl_refname'\n",
    "]\n",
    "\n",
    "# Pastikan hanya membuang kolom yang ada di dataframe untuk menghindari error\n",
    "cols_to_drop_existing = [col for col in cols_to_drop if col in df_filtered.columns]\n",
    "\n",
    "df_cleaned = df_filtered.drop(columns=cols_to_drop_existing)\n",
    "\n",
    "print(f\"Bentuk data sebelum membuang kolom: {df_filtered.shape}\")\n",
    "print(f\"Bentuk data setelah membuang kolom ID/teks: {df_cleaned.shape}\")\n",
    "df_cleaned.head()"
   ]
  },
  {
   "cell_type": "markdown",
   "id": "df1bde1e",
   "metadata": {},
   "source": [
    "## Missing Value "
   ]
  },
  {
   "cell_type": "code",
   "execution_count": 115,
   "id": "97e5e910",
   "metadata": {},
   "outputs": [
    {
     "name": "stdout",
     "output_type": "stream",
     "text": [
      "Membuang 9 kolom yang sepenuhnya kosong.\n",
      "\n",
      "Ditemukan 226 kolom dengan nilai kosong\n",
      "Total nilai kosong: 226438\n",
      "\n",
      "--- DIAGNOSTIK: Tipe Data Kolom Bermasalah ---\n",
      "pl_orbper: float64 | Nilai kosong: 22\n",
      "pl_orbpererr1: float64 | Nilai kosong: 392\n",
      "pl_orbpererr2: float64 | Nilai kosong: 392\n",
      "pl_orbperlim: float64 | Nilai kosong: 22\n",
      "pl_orbsmax: float64 | Nilai kosong: 1421\n",
      "pl_orbsmaxerr1: float64 | Nilai kosong: 1426\n",
      "pl_orbsmaxerr2: float64 | Nilai kosong: 1426\n",
      "pl_orbsmaxlim: float64 | Nilai kosong: 1421\n",
      "pl_rade: float64 | Nilai kosong: 361\n",
      "pl_radeerr1: float64 | Nilai kosong: 417\n",
      "\n",
      "--- Mulai Imputasi ---\n",
      "Kolom 'pl_bmassprov' (teks) diisi dengan 'Unknown'\n",
      "Kolom 'pl_tsystemref' (teks) diisi dengan 'Unknown'\n",
      "Kolom 'st_spectype' (teks) diisi dengan 'Unknown'\n",
      "Kolom 'st_metratio' (teks) diisi dengan 'Unknown'\n",
      "Kolom 'k2_campaigns' (teks) diisi dengan 'Unknown'\n",
      "\n",
      "--- HASIL AKHIR ---\n",
      "Jumlah nilai kosong setelah imputasi: 0\n",
      "Bentuk data final: (1806, 263)\n"
     ]
    }
   ],
   "source": [
    "# --- KODE DIAGNOSTIK DAN PERBAIKAN LENGKAP ---\n",
    "\n",
    "# 1. Buang kolom yang 100% kosong terlebih dahulu\n",
    "missing_fractions = df_cleaned.isnull().mean()\n",
    "cols_to_drop_full_nan = missing_fractions[missing_fractions == 1].index\n",
    "df_cleaned = df_cleaned.drop(columns=cols_to_drop_full_nan).copy()\n",
    "\n",
    "print(f\"Membuang {len(cols_to_drop_full_nan)} kolom yang sepenuhnya kosong.\")\n",
    "\n",
    "# 2. Identifikasi kolom yang masih punya nilai kosong\n",
    "cols_with_nan = df_cleaned.columns[df_cleaned.isnull().any()].tolist()\n",
    "print(f\"\\nDitemukan {len(cols_with_nan)} kolom dengan nilai kosong\")\n",
    "print(f\"Total nilai kosong: {df_cleaned.isnull().sum().sum()}\")\n",
    "\n",
    "# 3. DIAGNOSTIK: Cek tipe data dari kolom bermasalah\n",
    "print(\"\\n--- DIAGNOSTIK: Tipe Data Kolom Bermasalah ---\")\n",
    "for col in cols_with_nan[:10]:  # Tampilkan 10 pertama sebagai contoh\n",
    "    print(f\"{col}: {df_cleaned[col].dtype} | Nilai kosong: {df_cleaned[col].isnull().sum()}\")\n",
    "\n",
    "# 4. Imputasi dengan pendekatan yang lebih kuat\n",
    "print(\"\\n--- Mulai Imputasi ---\")\n",
    "for col in cols_with_nan:\n",
    "    if df_cleaned[col].dtype == 'object':\n",
    "        # Untuk kolom teks, isi dengan string 'Unknown'\n",
    "        df_cleaned[col] = df_cleaned[col].fillna('Unknown')\n",
    "        print(f\"Kolom '{col}' (teks) diisi dengan 'Unknown'\")\n",
    "    else:\n",
    "        # Untuk kolom numerik, isi dengan median\n",
    "        median_val = df_cleaned[col].median()\n",
    "        df_cleaned[col] = df_cleaned[col].fillna(median_val)\n",
    "\n",
    "# 5. Konfirmasi akhir\n",
    "print(\"\\n--- HASIL AKHIR ---\")\n",
    "print(f\"Jumlah nilai kosong setelah imputasi: {df_cleaned.isnull().sum().sum()}\")\n",
    "print(f\"Bentuk data final: {df_cleaned.shape}\")"
   ]
  },
  {
   "cell_type": "markdown",
   "id": "0bcfb330",
   "metadata": {},
   "source": [
    "# Preprare Data dan Model"
   ]
  },
  {
   "cell_type": "markdown",
   "id": "5b238ee3",
   "metadata": {},
   "source": [
    "## Encoding variabel"
   ]
  },
  {
   "cell_type": "code",
   "execution_count": 116,
   "id": "5851ea74",
   "metadata": {},
   "outputs": [
    {
     "name": "stdout",
     "output_type": "stream",
     "text": [
      "Distribusi target setelah disederhanakan:\n",
      "disposition\n",
      "1    580\n",
      "0    242\n",
      "Name: count, dtype: int64\n"
     ]
    }
   ],
   "source": [
    "# Kita akan menyederhanakan masalah: 'CONFIRMED' vs 'FALSE POSITIVE'\n",
    "# Pertama, kita hanya akan menyimpan baris dengan dua kategori ini\n",
    "df_model = df_cleaned[df_cleaned['disposition'].isin(['CONFIRMED', 'FALSE POSITIVE'])].copy()\n",
    "\n",
    "# Sekarang, ubah teks menjadi angka (1 untuk Planet, 0 untuk Bukan Planet)\n",
    "df_model['disposition'] = df_model['disposition'].apply(lambda x: 1 if x == 'CONFIRMED' else 0)\n",
    "\n",
    "print(\"Distribusi target setelah disederhanakan:\")\n",
    "print(df_model['disposition'].value_counts())"
   ]
  },
  {
   "cell_type": "markdown",
   "id": "30f62b27",
   "metadata": {},
   "source": [
    "## Encoding Fitur Kategori"
   ]
  },
  {
   "cell_type": "code",
   "execution_count": 117,
   "id": "0a1ac89c",
   "metadata": {},
   "outputs": [
    {
     "name": "stdout",
     "output_type": "stream",
     "text": [
      "Bentuk fitur sebelum encoding: (822, 262)\n",
      "Bentuk fitur setelah encoding: (822, 1863)\n",
      "\n",
      "Contoh beberapa kolom baru yang dibuat oleh get_dummies:\n",
      "    pl_controv_flag  pl_orbper  pl_orbpererr1  pl_orbpererr2  pl_orbperlim\n",
      "2                 0  41.685500       0.003000      -0.003000           0.0\n",
      "13                0   6.798700       0.000100      -0.000100           0.0\n",
      "21                0  28.165600       0.002700      -0.002800           0.0\n",
      "31                0  50.285869       0.000410      -0.000410           0.0\n",
      "46                0   2.519386       0.000014      -0.000014           0.0\n"
     ]
    }
   ],
   "source": [
    "# Pisahkan target (y) dari fitur (X) SEBELUM encoding\n",
    "X = df_model.drop('disposition', axis=1)\n",
    "y = df_model['disposition']\n",
    "\n",
    "# Gunakan pd.get_dummies untuk mengubah semua kolom 'object' menjadi numerik\n",
    "# Ini akan secara otomatis menemukan semua kolom teks dan mengubahnya\n",
    "X_encoded = pd.get_dummies(X)\n",
    "\n",
    "print(f\"Bentuk fitur sebelum encoding: {X.shape}\")\n",
    "print(f\"Bentuk fitur setelah encoding: {X_encoded.shape}\")\n",
    "print(\"\\nContoh beberapa kolom baru yang dibuat oleh get_dummies:\")\n",
    "# Menampilkan beberapa kolom baru yang mungkin dibuat\n",
    "new_cols = [col for col in X_encoded.columns if '_' in col and col.startswith('pl_')]\n",
    "print(X_encoded[new_cols[:5]].head())"
   ]
  },
  {
   "cell_type": "markdown",
   "id": "e7908e0f",
   "metadata": {},
   "source": [
    "## Pisahkan Data Latih dan Data Uji"
   ]
  },
  {
   "cell_type": "code",
   "execution_count": 118,
   "id": "d2aa997b",
   "metadata": {},
   "outputs": [
    {
     "name": "stdout",
     "output_type": "stream",
     "text": [
      "Ukuran set data:\n",
      "X_train: (657, 1863)\n",
      "X_test: (165, 1863)\n",
      "y_train: (657,)\n",
      "y_test: (165,)\n"
     ]
    }
   ],
   "source": [
    "# Kita akan menggunakan 80% data untuk melatih model dan 20% untuk mengujinya\n",
    "X_train, X_test, y_train, y_test = train_test_split(\n",
    "    X_encoded, y, \n",
    "    test_size=0.2, \n",
    "    random_state=42, \n",
    "    stratify=y\n",
    ")\n",
    "\n",
    "print(\"Ukuran set data:\")\n",
    "print(f\"X_train: {X_train.shape}\")\n",
    "print(f\"X_test: {X_test.shape}\")\n",
    "print(f\"y_train: {y_train.shape}\")\n",
    "print(f\"y_test: {y_test.shape}\")"
   ]
  },
  {
   "cell_type": "markdown",
   "id": "662626a8",
   "metadata": {},
   "source": [
    "# Melatih dan Mengevaluasi Model"
   ]
  },
  {
   "cell_type": "markdown",
   "id": "35ce8f77",
   "metadata": {},
   "source": [
    "## Membuat dan Melatih Model"
   ]
  },
  {
   "cell_type": "code",
   "execution_count": 119,
   "id": "99086dc0",
   "metadata": {},
   "outputs": [
    {
     "name": "stdout",
     "output_type": "stream",
     "text": [
      "Mulai melatih model Random Forest...\n",
      "Model selesai dilatih.\n"
     ]
    }
   ],
   "source": [
    "# Membuat instance model\n",
    "# n_estimators adalah jumlah 'pohon' dalam 'hutan'.\n",
    "# random_state=42 untuk hasil yang konsisten.\n",
    "# n_jobs=-1 untuk menggunakan semua core CPU yang tersedia.\n",
    "rf_model = RandomForestClassifier(n_estimators=100, random_state=42, n_jobs=-1)\n",
    "\n",
    "print(\"Mulai melatih model Random Forest...\")\n",
    "# Melatih model dengan data latih\n",
    "rf_model.fit(X_train, y_train)\n",
    "print(\"Model selesai dilatih.\")"
   ]
  },
  {
   "cell_type": "markdown",
   "id": "dffb44a3",
   "metadata": {},
   "source": [
    "## Predict dan Eval"
   ]
  },
  {
   "cell_type": "code",
   "execution_count": 120,
   "id": "0ee61965",
   "metadata": {},
   "outputs": [
    {
     "name": "stdout",
     "output_type": "stream",
     "text": [
      "\n",
      "Akurasi Model: 100.00%\n",
      "\n",
      "Laporan Klasifikasi:\n",
      "              precision    recall  f1-score   support\n",
      "\n",
      "Bukan Planet       1.00      1.00      1.00        49\n",
      "      Planet       1.00      1.00      1.00       116\n",
      "\n",
      "    accuracy                           1.00       165\n",
      "   macro avg       1.00      1.00      1.00       165\n",
      "weighted avg       1.00      1.00      1.00       165\n",
      "\n"
     ]
    }
   ],
   "source": [
    "# --- 2. Membuat Prediksi pada Data Uji ---\n",
    "y_pred = rf_model.predict(X_test)\n",
    "\n",
    "# --- 3. Mengevaluasi Performa Model ---\n",
    "accuracy = accuracy_score(y_test, y_pred)\n",
    "print(f\"\\nAkurasi Model: {accuracy * 100:.2f}%\")\n",
    "\n",
    "# Menampilkan laporan klasifikasi yang lebih detail\n",
    "print(\"\\nLaporan Klasifikasi:\")\n",
    "# target_names akan memberi label pada laporan (0=Bukan Planet, 1=Planet)\n",
    "print(classification_report(y_test, y_pred, target_names=['Bukan Planet', 'Planet']))"
   ]
  },
  {
   "cell_type": "markdown",
   "id": "b2933912",
   "metadata": {},
   "source": [
    "## Menampilkan Confusion Matrix"
   ]
  },
  {
   "cell_type": "code",
   "execution_count": 121,
   "id": "0e36a05c",
   "metadata": {},
   "outputs": [
    {
     "name": "stdout",
     "output_type": "stream",
     "text": [
      "\n",
      "Confusion Matrix:\n"
     ]
    },
    {
     "data": {
      "image/png": "[encoded data removed]",
      "text/plain": [
       "<Figure size 640x480 with 2 Axes>"
      ]
     },
     "metadata": {},
     "output_type": "display_data"
    }
   ],
   "source": [
    "# --- 4. Menampilkan Confusion Matrix ---\n",
    "print(\"\\nConfusion Matrix:\")\n",
    "cm = confusion_matrix(y_test, y_pred)\n",
    "sns.heatmap(cm, annot=True, fmt='d', cmap='Blues', \n",
    "            xticklabels=['Bukan Planet', 'Planet'], \n",
    "            yticklabels=['Bukan Planet', 'Planet'])\n",
    "plt.xlabel('Prediksi')\n",
    "plt.ylabel('Aktual')\n",
    "plt.show()"
   ]
  },
  {
   "cell_type": "markdown",
   "id": "115ad21d",
   "metadata": {},
   "source": [
    "# Candidate Data"
   ]
  },
  {
   "cell_type": "markdown",
   "id": "670b3666",
   "metadata": {},
   "source": [
    "## Uji Model Unseen"
   ]
  },
  {
   "cell_type": "code",
   "execution_count": 122,
   "id": "eca66866",
   "metadata": {},
   "outputs": [
    {
     "name": "stdout",
     "output_type": "stream",
     "text": [
      "Menyiapkan data 'CANDIDATE'...\n",
      "Jumlah data 'unseen' (kandidat) yang akan diuji: 976\n",
      "Bentuk data 'unseen' setelah disiapkan: (976, 1863)\n",
      "Bentuk data latih (sebagai perbandingan): (657, 1863)\n"
     ]
    }
   ],
   "source": [
    "print(\"Menyiapkan data 'CANDIDATE'...\")\n",
    "\n",
    "# Ambil baris yang statusnya 'CANDIDATE' dari df_cleaned\n",
    "df_unseen = df_cleaned[df_cleaned['disposition'] == 'CANDIDATE'].copy()\n",
    "\n",
    "# Pisahkan fitur dari target (meskipun kita tidak akan menggunakan targetnya)\n",
    "X_unseen = df_unseen.drop('disposition', axis=1)\n",
    "\n",
    "# Lakukan one-hot encoding pada data 'unseen'\n",
    "X_unseen_encoded = pd.get_dummies(X_unseen)\n",
    "\n",
    "# SANGAT PENTING: Pastikan kolomnya sama persis dengan data latih\n",
    "# .reindex() akan menyamakan kolom. Kolom baru di data latih akan ditambahkan dan diisi 0.\n",
    "# Kolom yang tidak ada di data latih akan dibuang.\n",
    "X_unseen_final = X_unseen_encoded.reindex(columns=X_encoded.columns, fill_value=0)\n",
    "\n",
    "print(f\"Jumlah data 'unseen' (kandidat) yang akan diuji: {len(X_unseen_final)}\")\n",
    "print(f\"Bentuk data 'unseen' setelah disiapkan: {X_unseen_final.shape}\")\n",
    "print(f\"Bentuk data latih (sebagai perbandingan): {X_train.shape}\")"
   ]
  },
  {
   "cell_type": "markdown",
   "id": "5a527e0e",
   "metadata": {},
   "source": [
    "## Predict Pada Kandidat"
   ]
  },
  {
   "cell_type": "code",
   "execution_count": 123,
   "id": "5369a1ae",
   "metadata": {},
   "outputs": [
    {
     "name": "stdout",
     "output_type": "stream",
     "text": [
      "Membuat prediksi pada 976 kandidat...\n",
      "\n",
      "Hasil Prediksi untuk Kandidat:\n",
      "0    497\n",
      "1    479\n",
      "Name: count, dtype: int64\n",
      "\n",
      "Contoh beberapa kandidat beserta hasil prediksinya:\n"
     ]
    },
    {
     "data": {
      "text/html": [
       "<div>\n",
       "<style scoped>\n",
       "    .dataframe tbody tr th:only-of-type {\n",
       "        vertical-align: middle;\n",
       "    }\n",
       "\n",
       "    .dataframe tbody tr th {\n",
       "        vertical-align: top;\n",
       "    }\n",
       "\n",
       "    .dataframe thead th {\n",
       "        text-align: right;\n",
       "    }\n",
       "</style>\n",
       "<table border=\"1\" class=\"dataframe\">\n",
       "  <thead>\n",
       "    <tr style=\"text-align: right;\">\n",
       "      <th></th>\n",
       "      <th>predicted_label</th>\n",
       "      <th>epic_candname</th>\n",
       "    </tr>\n",
       "  </thead>\n",
       "  <tbody>\n",
       "    <tr>\n",
       "      <th>3</th>\n",
       "      <td>Planet</td>\n",
       "      <td>EPIC 201111557.01</td>\n",
       "    </tr>\n",
       "    <tr>\n",
       "      <th>5</th>\n",
       "      <td>Bukan Planet</td>\n",
       "      <td>EPIC 201126503.01</td>\n",
       "    </tr>\n",
       "    <tr>\n",
       "      <th>7</th>\n",
       "      <td>Planet</td>\n",
       "      <td>EPIC 201127519.01</td>\n",
       "    </tr>\n",
       "    <tr>\n",
       "      <th>8</th>\n",
       "      <td>Planet</td>\n",
       "      <td>EPIC 201147085.01</td>\n",
       "    </tr>\n",
       "    <tr>\n",
       "      <th>9</th>\n",
       "      <td>Planet</td>\n",
       "      <td>EPIC 201152065.01</td>\n",
       "    </tr>\n",
       "    <tr>\n",
       "      <th>10</th>\n",
       "      <td>Bukan Planet</td>\n",
       "      <td>EPIC 201160662.01</td>\n",
       "    </tr>\n",
       "    <tr>\n",
       "      <th>11</th>\n",
       "      <td>Planet</td>\n",
       "      <td>EPIC 201164625.01</td>\n",
       "    </tr>\n",
       "    <tr>\n",
       "      <th>12</th>\n",
       "      <td>Planet</td>\n",
       "      <td>EPIC 201166680.01</td>\n",
       "    </tr>\n",
       "    <tr>\n",
       "      <th>14</th>\n",
       "      <td>Bukan Planet</td>\n",
       "      <td>EPIC 201176672.01</td>\n",
       "    </tr>\n",
       "    <tr>\n",
       "      <th>15</th>\n",
       "      <td>Bukan Planet</td>\n",
       "      <td>EPIC 201176672.02</td>\n",
       "    </tr>\n",
       "  </tbody>\n",
       "</table>\n",
       "</div>"
      ],
      "text/plain": [
       "   predicted_label      epic_candname\n",
       "3           Planet  EPIC 201111557.01\n",
       "5     Bukan Planet  EPIC 201126503.01\n",
       "7           Planet  EPIC 201127519.01\n",
       "8           Planet  EPIC 201147085.01\n",
       "9           Planet  EPIC 201152065.01\n",
       "10    Bukan Planet  EPIC 201160662.01\n",
       "11          Planet  EPIC 201164625.01\n",
       "12          Planet  EPIC 201166680.01\n",
       "14    Bukan Planet  EPIC 201176672.01\n",
       "15    Bukan Planet  EPIC 201176672.02"
      ]
     },
     "metadata": {},
     "output_type": "display_data"
    }
   ],
   "source": [
    "# --- 2. Membuat Prediksi pada Data Kandidat ---\n",
    "print(\"Membuat prediksi pada 976 kandidat...\")\n",
    "unseen_predictions = rf_model.predict(X_unseen_final)\n",
    "\n",
    "# --- 3. Menganalisis Hasil Prediksi ---\n",
    "# Ubah hasil prediksi (numpy array) menjadi pandas Series untuk dihitung\n",
    "prediction_counts = pd.Series(unseen_predictions).value_counts()\n",
    "\n",
    "print(\"\\nHasil Prediksi untuk Kandidat:\")\n",
    "print(prediction_counts)\n",
    "\n",
    "# Menambahkan hasil prediksi kembali ke dataframe asli untuk diinspeksi\n",
    "df_unseen['predicted_disposition'] = unseen_predictions\n",
    "# Mengubah 0 dan 1 kembali menjadi label teks agar mudah dibaca\n",
    "df_unseen['predicted_label'] = df_unseen['predicted_disposition'].apply(lambda x: 'Planet' if x == 1 else 'Bukan Planet')\n",
    "\n",
    "print(\"\\nContoh beberapa kandidat beserta hasil prediksinya:\")\n",
    "# Mengganti 'k2_name' dengan 'epic_candname' yang lebih relevan untuk kandidat\n",
    "display(df_unseen[['predicted_label']].join(df_filtered['epic_candname']).head(10))"
   ]
  },
  {
   "cell_type": "markdown",
   "id": "2427ae97",
   "metadata": {},
   "source": [
    "# Analisis dan Pahami Model"
   ]
  },
  {
   "cell_type": "markdown",
   "id": "28057b99",
   "metadata": {},
   "source": [
    "## Tingkat Kepentingan"
   ]
  },
  {
   "cell_type": "code",
   "execution_count": 124,
   "id": "c7e11669",
   "metadata": {},
   "outputs": [
    {
     "name": "stdout",
     "output_type": "stream",
     "text": [
      "DataFrame 'feature_importance_df' telah dibuat dan diurutkan.\n",
      "Menampilkan 5 fitur teratas:\n"
     ]
    },
    {
     "data": {
      "text/html": [
       "<div>\n",
       "<style scoped>\n",
       "    .dataframe tbody tr th:only-of-type {\n",
       "        vertical-align: middle;\n",
       "    }\n",
       "\n",
       "    .dataframe tbody tr th {\n",
       "        vertical-align: top;\n",
       "    }\n",
       "\n",
       "    .dataframe thead th {\n",
       "        text-align: right;\n",
       "    }\n",
       "</style>\n",
       "<table border=\"1\" class=\"dataframe\">\n",
       "  <thead>\n",
       "    <tr style=\"text-align: right;\">\n",
       "      <th></th>\n",
       "      <th>feature</th>\n",
       "      <th>importance</th>\n",
       "    </tr>\n",
       "  </thead>\n",
       "  <tbody>\n",
       "    <tr>\n",
       "      <th>1</th>\n",
       "      <td>sy_pnum</td>\n",
       "      <td>0.097968</td>\n",
       "    </tr>\n",
       "    <tr>\n",
       "      <th>26</th>\n",
       "      <td>pl_radeerr2</td>\n",
       "      <td>0.046593</td>\n",
       "    </tr>\n",
       "    <tr>\n",
       "      <th>1775</th>\n",
       "      <td>releasedate_2019-02-26</td>\n",
       "      <td>0.044149</td>\n",
       "    </tr>\n",
       "    <tr>\n",
       "      <th>370</th>\n",
       "      <td>pl_refname_&lt;a refstr=YU_ET_AL__2018 href=https...</td>\n",
       "      <td>0.042457</td>\n",
       "    </tr>\n",
       "    <tr>\n",
       "      <th>420</th>\n",
       "      <td>st_metratio_[Fe/H]</td>\n",
       "      <td>0.035360</td>\n",
       "    </tr>\n",
       "  </tbody>\n",
       "</table>\n",
       "</div>"
      ],
      "text/plain": [
       "                                                feature  importance\n",
       "1                                               sy_pnum    0.097968\n",
       "26                                          pl_radeerr2    0.046593\n",
       "1775                             releasedate_2019-02-26    0.044149\n",
       "370   pl_refname_<a refstr=YU_ET_AL__2018 href=https...    0.042457\n",
       "420                                  st_metratio_[Fe/H]    0.035360"
      ]
     },
     "metadata": {},
     "output_type": "display_data"
    }
   ],
   "source": [
    "# --- 1. Mendapatkan dan Mengurutkan Tingkat Kepentingan Fitur ---\n",
    "importances = rf_model.feature_importances_\n",
    "feature_names = X_encoded.columns\n",
    "\n",
    "# Membuat DataFrame untuk analisis yang lebih mudah\n",
    "feature_importance_df = pd.DataFrame({\n",
    "    'feature': feature_names,\n",
    "    'importance': importances\n",
    "})\n",
    "\n",
    "# Mengurutkan fitur dari yang paling penting\n",
    "feature_importance_df = feature_importance_df.sort_values(by='importance', ascending=False)\n",
    "\n",
    "print(\"DataFrame 'feature_importance_df' telah dibuat dan diurutkan.\")\n",
    "print(\"Menampilkan 5 fitur teratas:\")\n",
    "display(feature_importance_df.head(5))"
   ]
  }
 ],
 "metadata": {
  "kernelspec": {
   "display_name": "Python 3",
   "language": "python",
   "name": "python3"
  },
  "language_info": {
   "codemirror_mode": {
    "name": "ipython",
    "version": 3
   },
   "file_extension": ".py",
   "mimetype": "text/x-python",
   "name": "python",
   "nbconvert_exporter": "python",
   "pygments_lexer": "ipython3",
   "version": "3.13.7"
  }
 },
 "nbformat": 4,
 "nbformat_minor": 5
}
